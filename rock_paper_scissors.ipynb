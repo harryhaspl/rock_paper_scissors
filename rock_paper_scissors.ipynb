{
 "cells": [
  {
   "cell_type": "code",
   "execution_count": 1,
   "metadata": {},
   "outputs": [],
   "source": [
    "import random"
   ]
  },
  {
   "cell_type": "code",
   "execution_count": 2,
   "metadata": {},
   "outputs": [],
   "source": [
    "names = {\n",
    "    'r': \"rock\",\n",
    "    'p': \"paper\",\n",
    "    's': 'scissors'\n",
    "}\n",
    "\n",
    "def get_name(short):\n",
    "        return names[short]"
   ]
  },
  {
   "cell_type": "code",
   "execution_count": 3,
   "metadata": {},
   "outputs": [],
   "source": [
    "class Player:\n",
    "    def __init__(self, is_computer = False):\n",
    "        self.is_computer = is_computer\n",
    "        self.won = 0\n",
    "        self.lost = 0\n",
    "        self.tie = 0\n",
    "        \n",
    "    def is_choice_valid(self, choice):\n",
    "        return choice in [\"r\", \"p\", \"s\"]\n",
    "\n",
    "\n",
    "    def select(self):\n",
    "        if self.is_computer:\n",
    "            self.choice = random.choice([\"r\", \"p\", \"s\"])\n",
    "        else:\n",
    "            self.choice = None\n",
    "            while not self.is_choice_valid(self.choice):\n",
    "                self.choice = input(\"your choice (r/p/s): \")\n",
    "                if not self.is_choice_valid(self.choice):\n",
    "                    print(\"invalid input - try again\")\n",
    "    \n",
    "    "
   ]
  },
  {
   "cell_type": "code",
   "execution_count": 4,
   "metadata": {},
   "outputs": [],
   "source": [
    "def compare(choice1, choice2):\n",
    "    if choice1 == choice2:\n",
    "        return 1, 1\n",
    "\n",
    "    if choice1 == 'r' and choice2 == 'p':\n",
    "        return 0, 1\n",
    "    if choice1 == 'r' and choice2 == 's':\n",
    "        return 1, 0\n",
    "    if choice1 == 'p' and choice2 == 'r':\n",
    "        return 1, 0\n",
    "    if choice1 == 'p' and choice2 == 's':\n",
    "        return 0, 1\n",
    "    if choice1 == 's' and choice2 == 'r':\n",
    "        return 0, 1\n",
    "    if choice1 == 's' and choice2 == 'p':\n",
    "        return 1, 0\n",
    "    "
   ]
  },
  {
   "cell_type": "code",
   "execution_count": null,
   "metadata": {},
   "outputs": [],
   "source": []
  },
  {
   "cell_type": "code",
   "execution_count": 5,
   "metadata": {},
   "outputs": [
    {
     "name": "stdout",
     "output_type": "stream",
     "text": [
      "your choice (r/p/s): r\n",
      "you chose: rock\n",
      "computer chose: paper\n",
      "Computer wins!\n",
      "\n",
      "play again? yes\n",
      "your choice (r/p/s): p\n",
      "you chose: paper\n",
      "computer chose: rock\n",
      "Player wins!\n",
      "\n",
      "play again? yes\n",
      "your choice (r/p/s): s\n",
      "you chose: scissors\n",
      "computer chose: scissors\n",
      "Tie\n",
      "\n",
      "play again? yes\n",
      "your choice (r/p/s): a\n",
      "invalid input - try again\n",
      "your choice (r/p/s): yes\n",
      "invalid input - try again\n",
      "your choice (r/p/s): p\n",
      "you chose: paper\n",
      "computer chose: rock\n",
      "Player wins!\n",
      "\n",
      "play again? yes\n",
      "your choice (r/p/s): r\n",
      "you chose: rock\n",
      "computer chose: paper\n",
      "Computer wins!\n",
      "\n",
      "play again? yes\n",
      "your choice (r/p/s): s\n",
      "you chose: scissors\n",
      "computer chose: scissors\n",
      "Tie\n",
      "\n",
      "play again? no\n",
      "\n",
      "           w l t\n",
      "computer:  2 2 2\n",
      "player  :  2 2 2\n"
     ]
    }
   ],
   "source": [
    "player = Player()\n",
    "computer = Player(True)\n",
    "\n",
    "\n",
    "play_again = True\n",
    "while play_again:\n",
    "    computer.select()\n",
    "    player.select()\n",
    "    \n",
    "    print(\"you chose:\", get_name(player.choice))\n",
    "    print(\"computer chose:\", get_name(computer.choice))\n",
    "    comp, play = compare(computer.choice, player.choice)\n",
    "    if comp == play:\n",
    "        print(\"Tie\")\n",
    "        computer.tie += 1\n",
    "        player.tie += 1\n",
    "    elif comp == 1:\n",
    "        print(\"Computer wins!\")\n",
    "        computer.won += 1\n",
    "        player.lost += 1\n",
    "    elif play == 1:\n",
    "        print(\"Player wins!\")\n",
    "        player.won += 1\n",
    "        computer.lost += 1\n",
    "    \n",
    "    print()\n",
    "    if input(\"play again? \") == \"yes\":\n",
    "        play_again = True\n",
    "    else:\n",
    "        play_again = False\n",
    "\n",
    "print()\n",
    "print(\"           w l t\")\n",
    "print(\"computer: \", computer.won, computer.lost, computer.tie)\n",
    "print(\"player  : \", player.won, player.lost, player.tie)\n"
   ]
  },
  {
   "cell_type": "code",
   "execution_count": null,
   "metadata": {},
   "outputs": [],
   "source": []
  }
 ],
 "metadata": {
  "kernelspec": {
   "display_name": "Python 3",
   "language": "python",
   "name": "python3"
  },
  "language_info": {
   "codemirror_mode": {
    "name": "ipython",
    "version": 3
   },
   "file_extension": ".py",
   "mimetype": "text/x-python",
   "name": "python",
   "nbconvert_exporter": "python",
   "pygments_lexer": "ipython3",
   "version": "3.7.6"
  }
 },
 "nbformat": 4,
 "nbformat_minor": 4
}
